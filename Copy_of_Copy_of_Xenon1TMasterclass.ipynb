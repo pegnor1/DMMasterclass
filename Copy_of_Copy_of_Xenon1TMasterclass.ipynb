{
  "metadata": {
    "kernelspec": {
      "display_name": "Python 3",
      "language": "python",
      "name": "python3"
    },
    "language_info": {
      "name": "python",
      "version": "3.7.10",
      "mimetype": "text/x-python",
      "codemirror_mode": {
        "name": "ipython",
        "version": 3
      },
      "pygments_lexer": "ipython3",
      "nbconvert_exporter": "python",
      "file_extension": ".py"
    },
    "colab": {
      "provenance": [],
      "include_colab_link": true
    }
  },
  "nbformat_minor": 0,
  "nbformat": 4,
  "cells": [
    {
      "cell_type": "markdown",
      "metadata": {
        "id": "view-in-github",
        "colab_type": "text"
      },
      "source": [
        "<a href=\"https://colab.research.google.com/github/pegnor1/DMMasterclass/blob/main/Copy_of_Copy_of_Xenon1TMasterclass.ipynb\" target=\"_parent\"><img src=\"https://colab.research.google.com/assets/colab-badge.svg\" alt=\"Open In Colab\"/></a>"
      ]
    },
    {
      "cell_type": "markdown",
      "source": [
        "# XENON1T S2-only: results for custom energy spectra"
      ],
      "metadata": {
        "id": "OR2p_ZVGNs1W"
      }
    },
    {
      "cell_type": "markdown",
      "source": [
        "**MAKE A COPY FOR YOURSELF BEFORE DOING ANYTHING ELSE!**\n"
      ],
      "metadata": {
        "id": "u6nGd5TW1LpN"
      }
    },
    {
      "cell_type": "markdown",
      "source": [
        "_May 2020, XENON collaboration_"
      ],
      "metadata": {
        "id": "nnVPYv0INs1a"
      }
    },
    {
      "cell_type": "markdown",
      "source": [
        "This notebook shows how to derive limits on custom dark matter signal models with XENON1T's S2-only data. If you use this notebook, or the provided data, please cite our paper:\n",
        "  * Aprile, E. _et al._ (XENON collaboration), [Phys. Rev. Lett. 123, 251801](https://journals.aps.org/prl/abstract/10.1103/PhysRevLett.123.251801) (2019).\n",
        "\n",
        "The notebook does not replace the full analysis performed by XENON1T, and omits some elements that would be difficult to distribute. However, as shown below, it is designed to provide a highly accurate approximation."
      ],
      "metadata": {
        "id": "bL7A54JPNs1b"
      }
    },
    {
      "cell_type": "markdown",
      "source": [
        "## §1. Load the response functions and binning"
      ],
      "metadata": {
        "id": "1Y-BLa7wNs1b"
      }
    },
    {
      "cell_type": "markdown",
      "source": [
        "In this section we import the libraries needed for generating the energy spectra. Most of these are standard but the Wimprates library is specialized for using WIMP models to simulate detector response."
      ],
      "metadata": {
        "id": "lzDSZsVBKuIq"
      }
    },
    {
      "cell_type": "code",
      "source": [
        "import numpy as np\n",
        "import pandas as pd\n",
        "from scipy import interpolate, integrate\n",
        "\n",
        "import matplotlib\n",
        "import matplotlib.pyplot as plt\n",
        "%matplotlib inline\n",
        "\n",
        "!pip install wimprates\n",
        "import wimprates as wr\n"
      ],
      "metadata": {
        "id": "GQ9p46ymNs1c",
        "colab": {
          "base_uri": "https://localhost:8080/"
        },
        "outputId": "5d417f3d-edf3-4ba5-a923-47074eeefdb9"
      },
      "execution_count": null,
      "outputs": [
        {
          "output_type": "stream",
          "name": "stdout",
          "text": [
            "Requirement already satisfied: wimprates in /usr/local/lib/python3.10/dist-packages (0.5.0)\n",
            "Requirement already satisfied: numpy in /usr/local/lib/python3.10/dist-packages (from wimprates) (1.22.4)\n",
            "Requirement already satisfied: scipy in /usr/local/lib/python3.10/dist-packages (from wimprates) (1.10.1)\n",
            "Requirement already satisfied: pandas in /usr/local/lib/python3.10/dist-packages (from wimprates) (1.5.3)\n",
            "Requirement already satisfied: tqdm in /usr/local/lib/python3.10/dist-packages (from wimprates) (4.65.0)\n",
            "Requirement already satisfied: boltons in /usr/local/lib/python3.10/dist-packages (from wimprates) (23.0.0)\n",
            "Requirement already satisfied: numericalunits in /usr/local/lib/python3.10/dist-packages (from wimprates) (1.25)\n",
            "Requirement already satisfied: python-dateutil>=2.8.1 in /usr/local/lib/python3.10/dist-packages (from pandas->wimprates) (2.8.2)\n",
            "Requirement already satisfied: pytz>=2020.1 in /usr/local/lib/python3.10/dist-packages (from pandas->wimprates) (2022.7.1)\n",
            "Requirement already satisfied: six>=1.5 in /usr/local/lib/python3.10/dist-packages (from python-dateutil>=2.8.1->pandas->wimprates) (1.16.0)\n"
          ]
        }
      ]
    },
    {
      "cell_type": "markdown",
      "source": [
        "Next we import the spreadsheet with the detector response function.\n",
        "First, take a few moments to look at the spreadsheet and identify what values are boing loaded below.\n",
        "Then, add a statement to print the energy_bin_width_kev. **bold text**"
      ],
      "metadata": {
        "id": "aae3tsDHLptv"
      }
    },
    {
      "cell_type": "code",
      "source": [
        "response_df = pd.read_excel('https://docs.google.com/spreadsheets/d/1nhJQqOSKyyVy4xpR7AEVpy2kLMB5hCEaCsnRaRM459A/export')\n",
        "# Load response matrix and energies\n",
        "response_matrix = response_df.values[:,3:]\n",
        "energy_kev = response_df['energy_kev'].values\n",
        "\n",
        "# We simulated mono-energetic signals. To construct models,\n",
        "# we have to weight them by a d(energy), i.e. a width.\n",
        "energy_bin_starts_kev = response_df['energy_bin_start_kev'].values\n",
        "energy_bin_end_kev = response_df['energy_bin_end_kev'].values\n",
        "energy_bin_width_kev = energy_bin_end_kev - energy_bin_starts_kev"
      ],
      "metadata": {
        "id": "Q5lK6-5VVtuF"
      },
      "execution_count": null,
      "outputs": []
    },
    {
      "cell_type": "markdown",
      "source": [
        "Next we import the spreadsheet with the S2 binning data. Take a look at the spreadsheet and identify what values are being loaded below. Then, add a statement to print the s2_bin_widths.\n",
        "- **Why do you think they use log_center_pe values instead of linear_center_pe values?**\n",
        "- **What does the concatenate command do**?"
      ],
      "metadata": {
        "id": "uWHEjnur5YRD"
      }
    },
    {
      "cell_type": "markdown",
      "source": [],
      "metadata": {
        "id": "eK7P-oFN-9PK"
      }
    },
    {
      "cell_type": "code",
      "source": [
        "\n",
        "\n",
        "\n",
        "# Load S2 binning\n",
        "binning_df = pd.read_excel('https://docs.google.com/spreadsheets/d/1GHDMNOEHEHtSs_DLTBqlK_heabZ6BVqX_0LGGN2IIV8/export')\n",
        "s2_bin_centers = binning_df['log_center_pe'].values\n",
        "s2_bin_widths = (binning_df['end_pe'] - binning_df['start_pe']).values\n",
        "s2_bin_edges = np.concatenate([binning_df['start_pe'].values, [binning_df['end_pe'].iloc[-1]]])\n"
      ],
      "metadata": {
        "id": "THjbN_dpNs1c"
      },
      "execution_count": null,
      "outputs": []
    },
    {
      "cell_type": "markdown",
      "source": [
        "## §2. Compute the energy spectrum"
      ],
      "metadata": {
        "id": "xK2yhqWBNs1d"
      }
    },
    {
      "cell_type": "markdown",
      "source": [
        "For this example, we will use a 4 GeV/c^2 spin-independent elastic WIMP spectrum, computed using the `wimprates` package (available on pypi / pip install). As a reference cross-section, we'll use 1 zb or $10^{-45} \\mathrm{cm^2}$.\n"
      ],
      "metadata": {
        "id": "0Ca1UXZNNs1d"
      }
    },
    {
      "cell_type": "code",
      "source": [
        "\n",
        "reference_cross_section = 1e-45  # cm^2\n",
        "rate_pertonneyearkev = wr.rate_wimp_std(es=energy_kev, mw=16, sigma_nucleon=reference_cross_section)\n",
        "\n",
        "plt.plot(energy_kev, rate_pertonneyearkev, drawstyle='steps-mid')\n",
        "plt.xlabel(\"Nuclear recoil energy [keV]\")\n",
        "plt.ylabel(\"Expected recoils / (tonne year keV)\")\n",
        "plt.yscale('log')\n",
        "plt.xscale('log')\n",
        "plt.xlim(0.4, 100)"
      ],
      "metadata": {
        "id": "1mYoPayPNs1e",
        "outputId": "b4a096fa-72a0-44c6-d7b0-c593b12c84ab",
        "colab": {
          "base_uri": "https://localhost:8080/",
          "height": 471
        }
      },
      "execution_count": null,
      "outputs": [
        {
          "output_type": "execute_result",
          "data": {
            "text/plain": [
              "(0.4, 100)"
            ]
          },
          "metadata": {},
          "execution_count": 52
        },
        {
          "output_type": "display_data",
          "data": {
            "text/plain": [
              "<Figure size 640x480 with 1 Axes>"
            ],
            "image/png": "[encoded data removed]"
          },
          "metadata": {}
        }
      ]
    },
    {
      "cell_type": "markdown",
      "source": [
        "## §3. Convert to expected measured S2 rate"
      ],
      "metadata": {
        "id": "xw9IXYwrNs1f"
      }
    },
    {
      "cell_type": "markdown",
      "source": [
        "First, we muliply by the energy bin weight and the total exposure:"
      ],
      "metadata": {
        "id": "Qa3q3L43Ns1f"
      }
    },
    {
      "cell_type": "code",
      "source": [
        "rate_pertonneyear = rate_pertonneyearkev * energy_bin_width_kev\n",
        "rate_before_cutoff = rate_pertonneyear * 0.97678   # tonne year"
      ],
      "metadata": {
        "id": "i6QUJdC8Ns1f"
      },
      "execution_count": null,
      "outputs": []
    },
    {
      "cell_type": "markdown",
      "source": [
        "See the README.md file for more details on how the total exposure in the last line is derived. Of course this is not the **effective** exposure; we have many event selection cuts. These, together with the LXe and detector response, are accounted for in the response model, which we will apply in a moment.\n",
        "\n",
        "The response model does **not** include any recoil energy cutoffs (so you can vary the cutoff if you want). For NRs, we applied a 0.7 keV energy cutoff in our paper. Let's apply that here."
      ],
      "metadata": {
        "id": "zTp1Mi6RNs1f"
      }
    },
    {
      "cell_type": "code",
      "source": [
        "recoil_energy_cutoff_kev = 0.5\n",
        "rate_after_cutoff = rate_before_cutoff.copy()\n",
        "\n",
        "# Which bin contains the cutoff?\n",
        "cutoff_bin_index = (energy_bin_starts_kev < recoil_energy_cutoff_kev).sum() - 1\n",
        "\n",
        "# Zero the spectrum in earlier bins\n",
        "rate_after_cutoff[:cutoff_bin_index] = 0\n",
        "\n",
        "# Suppress the spectrum proportionally in the bin with the cutoff\n",
        "suppress_by = (\n",
        "    (recoil_energy_cutoff_kev - energy_bin_starts_kev[cutoff_bin_index])\n",
        "    / energy_bin_width_kev[cutoff_bin_index])\n",
        "assert 0 <= suppress_by <= 1\n",
        "rate_after_cutoff[cutoff_bin_index] *= 1 - suppress_by"
      ],
      "metadata": {
        "id": "tRfUIlF_Ns1g"
      },
      "execution_count": null,
      "outputs": []
    },
    {
      "cell_type": "code",
      "source": [
        "plt.plot(energy_kev, rate_before_cutoff, drawstyle='steps-mid', label='Before cutoff')\n",
        "plt.plot(energy_kev, rate_after_cutoff, drawstyle='steps-mid', label='After cutoff')\n",
        "plt.axvline(recoil_energy_cutoff_kev, linestyle='--', c='r', label='Cutoff')\n",
        "plt.legend(loc='best')\n",
        "plt.xlabel(\"Nuclear recoil energy [keV]\")\n",
        "plt.ylabel(\"Expected recoils / (energy bin)\")\n",
        "plt.yscale('log')\n",
        "plt.xscale('log')\n",
        "plt.xlim(0.4, 10)"
      ],
      "metadata": {
        "id": "29CHuNsmNs1g",
        "outputId": "6ba06e74-2a43-428d-c712-0916a001a140",
        "colab": {
          "base_uri": "https://localhost:8080/",
          "height": 471
        }
      },
      "execution_count": null,
      "outputs": [
        {
          "output_type": "execute_result",
          "data": {
            "text/plain": [
              "(0.4, 10)"
            ]
          },
          "metadata": {},
          "execution_count": 55
        },
        {
          "output_type": "display_data",
          "data": {
            "text/plain": [
              "<Figure size 640x480 with 1 Axes>"
            ],
            "image/png": "[encoded data removed]"
          },
          "metadata": {}
        }
      ]
    },
    {
      "cell_type": "markdown",
      "source": [
        "Finally, take the dot product with the response matrix:"
      ],
      "metadata": {
        "id": "2oLqPeKxNs1g"
      }
    },
    {
      "cell_type": "code",
      "source": [
        "rate_final = np.dot(response_matrix.T, rate_after_cutoff)\n",
        "s2_lowroi = 165\n",
        "s2_hiroi = 280\n",
        "\n",
        "def s2_xaxis():\n",
        "    plt.xscale('log')\n",
        "    plt.xticks([90, 120, 150, 200, 500, 1000, 3000])\n",
        "    plt.xlim(90, 3000)\n",
        "    plt.gca().xaxis.set_major_formatter(matplotlib.ticker.ScalarFormatter())\n",
        "    plt.xlabel(\"S2 area [PE]\")\n",
        "\n",
        "plt.plot(s2_bin_centers, rate_final, drawstyle='steps-mid')\n",
        "plt.axvline(s2_lowroi, linestyle='--', c='r', label='roi_lower')\n",
        "plt.axvline(s2_hiroi, linestyle='--', c='r', label='roi_upper')\n",
        "plt.ylabel(\"Expected events / (S2 bin)\")\n",
        "s2_xaxis()\n",
        "plt.ylim(0, None)"
      ],
      "metadata": {
        "id": "_KtK32N0Ns1g",
        "outputId": "84db6a8d-6469-4908-98fb-846fc4e041c7",
        "colab": {
          "base_uri": "https://localhost:8080/",
          "height": 466
        }
      },
      "execution_count": null,
      "outputs": [
        {
          "output_type": "execute_result",
          "data": {
            "text/plain": [
              "(0.0, 0.13127124091520867)"
            ]
          },
          "metadata": {},
          "execution_count": 56
        },
        {
          "output_type": "display_data",
          "data": {
            "text/plain": [
              "<Figure size 640x480 with 1 Axes>"
            ],
            "image/png": "[encoded data removed]"
          },
          "metadata": {}
        }
      ]
    },
    {
      "cell_type": "markdown",
      "source": [
        "**What happens if you change the cutoff value by 0.1 MeV one way or the other? How does it change this spectrum?**"
      ],
      "metadata": {
        "id": "u3cXJWnONs1h"
      }
    },
    {
      "cell_type": "markdown",
      "source": [
        "## §4. ROI choice and limit setting"
      ],
      "metadata": {
        "id": "sIVZVTrPNs1h"
      }
    },
    {
      "cell_type": "markdown",
      "source": [
        "You now need to choose an S2 region of interest (ROI) for comparison with data. You have several options:\n",
        "\n",
        "**1.** If you do not want to think about this issue, or if your model has most of its response at low S2s, stick to our [165.3, 271.7] PE ROI.\n",
        "  \n",
        "**2.** If your model has a significant response at higher S2s, you will get better results with a different ROI.\n",
        "  * **2A:** We list many ROIs in the limit datafiles, for different WIMP masses, models, and several mono-energetic peaks (for dark photons and ALPs). You could compare your model's response to one of these reference models, see which matches best, and use its ROI.\n",
        "  * **2B:** Alternatively, you can choose a completely new ROI, e.g. by trying to approximate our procedure. This is more work, and you will need some extra info.\n",
        "  \n",
        "Whatever you do, do NOT just choose the ROI that gives you the best results! We chose our ROIs before even looking at the search data.\n",
        "  \n",
        "Here, we assume you chose one of our ROIs, i.e. option **[1]** or **[2A]**. We'll briefly discuss **[2B]** in the next section."
      ],
      "metadata": {
        "id": "llbN-u2INs1h"
      }
    },
    {
      "cell_type": "code",
      "source": [
        "s2_roi = (300,1500)"
      ],
      "metadata": {
        "id": "_LzoQ-G3Ns1h"
      },
      "execution_count": null,
      "outputs": []
    },
    {
      "cell_type": "markdown",
      "source": [
        "You now want to count the expected number of events in the ROI. Since we have quite a few S2 bins, a naive calculation is reasonable:"
      ],
      "metadata": {
        "id": "056RPzQlNs1h"
      }
    },
    {
      "cell_type": "code",
      "source": [
        "mask = (s2_roi[0] <= s2_bin_centers) & (s2_bin_centers <= s2_roi[1])\n",
        "expected_events = rate_final[mask].sum()\n",
        "expected_events"
      ],
      "metadata": {
        "id": "2fGcmT7gNs1h",
        "outputId": "3a371c69-4a87-46c7-fe9c-dff83e57df34",
        "colab": {
          "base_uri": "https://localhost:8080/"
        }
      },
      "execution_count": null,
      "outputs": [
        {
          "output_type": "execute_result",
          "data": {
            "text/plain": [
              "8.805003324487906"
            ]
          },
          "metadata": {},
          "execution_count": 58
        }
      ]
    },
    {
      "cell_type": "markdown",
      "source": [
        "But feel free to interpolate/integrate:"
      ],
      "metadata": {
        "id": "Ou4iW6vdNs1i"
      }
    },
    {
      "cell_type": "code",
      "source": [
        "f = interpolate.interp1d(s2_bin_centers, rate_final / s2_bin_widths)\n",
        "expected_events, integration_error = integrate.quad(f, *s2_roi, epsabs=1e-6)\n",
        "\n",
        "print(expected_events, integration_error/expected_events)"
      ],
      "metadata": {
        "id": "S41cHpG1Ns1i",
        "outputId": "a2a80d0d-20f1-4cf2-b1ec-44c47deb05ad",
        "colab": {
          "base_uri": "https://localhost:8080/"
        }
      },
      "execution_count": null,
      "outputs": [
        {
          "output_type": "stream",
          "name": "stdout",
          "text": [
            "8.759170119702905 0.0004959135553186967\n"
          ]
        },
        {
          "output_type": "stream",
          "name": "stderr",
          "text": [
            "<ipython-input-59-976b9bb72805>:2: IntegrationWarning: The maximum number of subdivisions (50) has been achieved.\n",
            "  If increasing the limit yields no improvement it is advised to analyze \n",
            "  the integrand in order to determine the difficulties.  If the position of a \n",
            "  local difficulty can be determined (singularity, discontinuity) one will \n",
            "  probably gain from splitting up the interval and calling the integrator \n",
            "  on the subranges.  Perhaps a special-purpose integrator should be used.\n",
            "  expected_events, integration_error = integrate.quad(f, *s2_roi, epsabs=1e-6)\n"
          ]
        }
      ]
    },
    {
      "cell_type": "markdown",
      "source": [
        "Since you picked one of the ROIs from our paper, you can look up the limit in terms of number of signal events.\n",
        "\n",
        "For this ROI, we derived limits of **24.6 - 24.8 signal events** for different models.\n",
        "  * The tiny spread is due to slightly different impacts of our uncertainties for different models that have different distributions within the small S2 ROI.\n",
        "  * If you would like more details on how this limit is derived from the observed data, please see the paper. You do not need these details for the computation here.\n",
        "\n",
        "Computing the limit is now easy:"
      ],
      "metadata": {
        "id": "CQNY7MoNNs1i"
      }
    },
    {
      "cell_type": "code",
      "source": [
        "24.7 * reference_cross_section / expected_events"
      ],
      "metadata": {
        "id": "80u_YnTQNs1i",
        "outputId": "e7542962-6cdd-45b8-e03c-1f93286cc18e",
        "colab": {
          "base_uri": "https://localhost:8080/"
        }
      },
      "execution_count": null,
      "outputs": [
        {
          "output_type": "execute_result",
          "data": {
            "text/plain": [
              "2.819901847144142e-45"
            ]
          },
          "metadata": {},
          "execution_count": 60
        }
      ]
    },
    {
      "cell_type": "markdown",
      "source": [
        "For comparison, the full calculation with XENON1T's framework gives $6.4367 \\times 10^{-43} \\mathrm{cm}^2$, as you can get from the supplemental CSVs.\n",
        "\n",
        "Thus, for this signal model, we reproduce our limit to within 1%. We give no guarantees this is true for all signal models, particularly signal models with energy spectra that drop very steeply compared to the provided energy binning."
      ],
      "metadata": {
        "id": "l1MMnGOBNs1i"
      }
    },
    {
      "cell_type": "markdown",
      "source": [
        "## §5. Optional: choosing a custom ROI"
      ],
      "metadata": {
        "id": "r_DKDqeNNs1i"
      }
    },
    {
      "cell_type": "markdown",
      "source": [
        "It is by far the simplest to choose one of the ROIs we also used, as discussed above.\n",
        "\n",
        "We chose ROIs before examining the search data. Specifically, we chose S2 ROIs that gave the lowest limit for each model on a disjoint training set, which was not re-used for setting the actual dark matter limits. The ROIs also had to obey several constraints (to contain sufficient signal, and not include < 150 PE events) as detailed in the paper.\n",
        "\n",
        "This data release has information to approximately (but not exactly) repeat this construction. You will need to do your own counting experiment limit setting in the presence of a background, and scan over different ROIs. A full example is beyond the scope of this notebook.\n",
        "\n",
        "Here, we just show how to load the two other pieces of data provided to help those who want to go down this road."
      ],
      "metadata": {
        "id": "7reG9O9ENs1i"
      }
    },
    {
      "cell_type": "markdown",
      "source": [
        "#### Observed events"
      ],
      "metadata": {
        "id": "JAIZdeENNs1i"
      }
    },
    {
      "cell_type": "code",
      "source": [
        "!pip install multihist\n",
        "from multihist import Hist1d\n",
        "import pandas as pd\n",
        "from matplotlib import pyplot as plt\n",
        "s2s = pd.read_excel('https://docs.google.com/spreadsheets/d/137gnrTAwneyflek_n2HNir7r1sR-tEeFrnc_6pXoKqU/explore')['s2_area_pe'].values\n",
        "s2s_train = pd.read_excel('https://docs.google.com/spreadsheets/d/1VcoI3l9yLP5Ns-j8casPE31SUD_lDhS4zNhs7NW6vn4/explore')['s2_area_pe'].values\n",
        "\n",
        "Hist1d(s2s, bins=s2_bin_edges).plot(c='k', label='Search data')\n",
        "Hist1d(s2s_train, bins=s2_bin_edges).plot(c='r', label='Training data')\n",
        "plt.legend(loc='upper right', frameon=False)\n",
        "s2_xaxis()\n",
        "plt.ylabel(\"Events / bin\")\n",
        "plt.ylim(0, None)"
      ],
      "metadata": {
        "id": "KgjQBJOtNs1j",
        "outputId": "c399fc2d-c65b-4da7-d626-b16ea1e7eaec",
        "colab": {
          "base_uri": "https://localhost:8080/",
          "height": 451
        }
      },
      "execution_count": null,
      "outputs": [
        {
          "output_type": "stream",
          "name": "stdout",
          "text": [
            "Requirement already satisfied: multihist in /usr/local/lib/python3.10/dist-packages (0.6.5)\n",
            "Requirement already satisfied: numpy in /usr/local/lib/python3.10/dist-packages (from multihist) (1.22.4)\n"
          ]
        },
        {
          "output_type": "error",
          "ename": "HTTPError",
          "evalue": "ignored",
          "traceback": [
            "\u001b[0;31m---------------------------------------------------------------------------\u001b[0m",
            "\u001b[0;31mHTTPError\u001b[0m                                 Traceback (most recent call last)",
            "\u001b[0;32m<ipython-input-61-6ebbc973b739>\u001b[0m in \u001b[0;36m<cell line: 5>\u001b[0;34m()\u001b[0m\n\u001b[1;32m      3\u001b[0m \u001b[0;32mimport\u001b[0m \u001b[0mpandas\u001b[0m \u001b[0;32mas\u001b[0m \u001b[0mpd\u001b[0m\u001b[0;34m\u001b[0m\u001b[0;34m\u001b[0m\u001b[0m\n\u001b[1;32m      4\u001b[0m \u001b[0;32mfrom\u001b[0m \u001b[0mmatplotlib\u001b[0m \u001b[0;32mimport\u001b[0m \u001b[0mpyplot\u001b[0m \u001b[0;32mas\u001b[0m \u001b[0mplt\u001b[0m\u001b[0;34m\u001b[0m\u001b[0;34m\u001b[0m\u001b[0m\n\u001b[0;32m----> 5\u001b[0;31m \u001b[0ms2s\u001b[0m \u001b[0;34m=\u001b[0m \u001b[0mpd\u001b[0m\u001b[0;34m.\u001b[0m\u001b[0mread_excel\u001b[0m\u001b[0;34m(\u001b[0m\u001b[0;34m'https://docs.google.com/spreadsheets/d/137gnrTAwneyflek_n2HNir7r1sR-tEeFrnc_6pXoKqU/explore'\u001b[0m\u001b[0;34m)\u001b[0m\u001b[0;34m[\u001b[0m\u001b[0;34m's2_area_pe'\u001b[0m\u001b[0;34m]\u001b[0m\u001b[0;34m.\u001b[0m\u001b[0mvalues\u001b[0m\u001b[0;34m\u001b[0m\u001b[0;34m\u001b[0m\u001b[0m\n\u001b[0m\u001b[1;32m      6\u001b[0m \u001b[0ms2s_train\u001b[0m \u001b[0;34m=\u001b[0m \u001b[0mpd\u001b[0m\u001b[0;34m.\u001b[0m\u001b[0mread_excel\u001b[0m\u001b[0;34m(\u001b[0m\u001b[0;34m'https://docs.google.com/spreadsheets/d/1VcoI3l9yLP5Ns-j8casPE31SUD_lDhS4zNhs7NW6vn4/explore'\u001b[0m\u001b[0;34m)\u001b[0m\u001b[0;34m[\u001b[0m\u001b[0;34m's2_area_pe'\u001b[0m\u001b[0;34m]\u001b[0m\u001b[0;34m.\u001b[0m\u001b[0mvalues\u001b[0m\u001b[0;34m\u001b[0m\u001b[0;34m\u001b[0m\u001b[0m\n\u001b[1;32m      7\u001b[0m \u001b[0;34m\u001b[0m\u001b[0m\n",
            "\u001b[0;32m/usr/local/lib/python3.10/dist-packages/pandas/util/_decorators.py\u001b[0m in \u001b[0;36mwrapper\u001b[0;34m(*args, **kwargs)\u001b[0m\n\u001b[1;32m    209\u001b[0m                 \u001b[0;32melse\u001b[0m\u001b[0;34m:\u001b[0m\u001b[0;34m\u001b[0m\u001b[0;34m\u001b[0m\u001b[0m\n\u001b[1;32m    210\u001b[0m                     \u001b[0mkwargs\u001b[0m\u001b[0;34m[\u001b[0m\u001b[0mnew_arg_name\u001b[0m\u001b[0;34m]\u001b[0m \u001b[0;34m=\u001b[0m \u001b[0mnew_arg_value\u001b[0m\u001b[0;34m\u001b[0m\u001b[0;34m\u001b[0m\u001b[0m\n\u001b[0;32m--> 211\u001b[0;31m             \u001b[0;32mreturn\u001b[0m \u001b[0mfunc\u001b[0m\u001b[0;34m(\u001b[0m\u001b[0;34m*\u001b[0m\u001b[0margs\u001b[0m\u001b[0;34m,\u001b[0m \u001b[0;34m**\u001b[0m\u001b[0mkwargs\u001b[0m\u001b[0;34m)\u001b[0m\u001b[0;34m\u001b[0m\u001b[0;34m\u001b[0m\u001b[0m\n\u001b[0m\u001b[1;32m    212\u001b[0m \u001b[0;34m\u001b[0m\u001b[0m\n\u001b[1;32m    213\u001b[0m         \u001b[0;32mreturn\u001b[0m \u001b[0mcast\u001b[0m\u001b[0;34m(\u001b[0m\u001b[0mF\u001b[0m\u001b[0;34m,\u001b[0m \u001b[0mwrapper\u001b[0m\u001b[0;34m)\u001b[0m\u001b[0;34m\u001b[0m\u001b[0;34m\u001b[0m\u001b[0m\n",
            "\u001b[0;32m/usr/local/lib/python3.10/dist-packages/pandas/util/_decorators.py\u001b[0m in \u001b[0;36mwrapper\u001b[0;34m(*args, **kwargs)\u001b[0m\n\u001b[1;32m    329\u001b[0m                     \u001b[0mstacklevel\u001b[0m\u001b[0;34m=\u001b[0m\u001b[0mfind_stack_level\u001b[0m\u001b[0;34m(\u001b[0m\u001b[0;34m)\u001b[0m\u001b[0;34m,\u001b[0m\u001b[0;34m\u001b[0m\u001b[0;34m\u001b[0m\u001b[0m\n\u001b[1;32m    330\u001b[0m                 )\n\u001b[0;32m--> 331\u001b[0;31m             \u001b[0;32mreturn\u001b[0m \u001b[0mfunc\u001b[0m\u001b[0;34m(\u001b[0m\u001b[0;34m*\u001b[0m\u001b[0margs\u001b[0m\u001b[0;34m,\u001b[0m \u001b[0;34m**\u001b[0m\u001b[0mkwargs\u001b[0m\u001b[0;34m)\u001b[0m\u001b[0;34m\u001b[0m\u001b[0;34m\u001b[0m\u001b[0m\n\u001b[0m\u001b[1;32m    332\u001b[0m \u001b[0;34m\u001b[0m\u001b[0m\n\u001b[1;32m    333\u001b[0m         \u001b[0;31m# error: \"Callable[[VarArg(Any), KwArg(Any)], Any]\" has no\u001b[0m\u001b[0;34m\u001b[0m\u001b[0;34m\u001b[0m\u001b[0m\n",
            "\u001b[0;32m/usr/local/lib/python3.10/dist-packages/pandas/io/excel/_base.py\u001b[0m in \u001b[0;36mread_excel\u001b[0;34m(io, sheet_name, header, names, index_col, usecols, squeeze, dtype, engine, converters, true_values, false_values, skiprows, nrows, na_values, keep_default_na, na_filter, verbose, parse_dates, date_parser, thousands, decimal, comment, skipfooter, convert_float, mangle_dupe_cols, storage_options)\u001b[0m\n\u001b[1;32m    480\u001b[0m     \u001b[0;32mif\u001b[0m \u001b[0;32mnot\u001b[0m \u001b[0misinstance\u001b[0m\u001b[0;34m(\u001b[0m\u001b[0mio\u001b[0m\u001b[0;34m,\u001b[0m \u001b[0mExcelFile\u001b[0m\u001b[0;34m)\u001b[0m\u001b[0;34m:\u001b[0m\u001b[0;34m\u001b[0m\u001b[0;34m\u001b[0m\u001b[0m\n\u001b[1;32m    481\u001b[0m         \u001b[0mshould_close\u001b[0m \u001b[0;34m=\u001b[0m \u001b[0;32mTrue\u001b[0m\u001b[0;34m\u001b[0m\u001b[0;34m\u001b[0m\u001b[0m\n\u001b[0;32m--> 482\u001b[0;31m         \u001b[0mio\u001b[0m \u001b[0;34m=\u001b[0m \u001b[0mExcelFile\u001b[0m\u001b[0;34m(\u001b[0m\u001b[0mio\u001b[0m\u001b[0;34m,\u001b[0m \u001b[0mstorage_options\u001b[0m\u001b[0;34m=\u001b[0m\u001b[0mstorage_options\u001b[0m\u001b[0;34m,\u001b[0m \u001b[0mengine\u001b[0m\u001b[0;34m=\u001b[0m\u001b[0mengine\u001b[0m\u001b[0;34m)\u001b[0m\u001b[0;34m\u001b[0m\u001b[0;34m\u001b[0m\u001b[0m\n\u001b[0m\u001b[1;32m    483\u001b[0m     \u001b[0;32melif\u001b[0m \u001b[0mengine\u001b[0m \u001b[0;32mand\u001b[0m \u001b[0mengine\u001b[0m \u001b[0;34m!=\u001b[0m \u001b[0mio\u001b[0m\u001b[0;34m.\u001b[0m\u001b[0mengine\u001b[0m\u001b[0;34m:\u001b[0m\u001b[0;34m\u001b[0m\u001b[0;34m\u001b[0m\u001b[0m\n\u001b[1;32m    484\u001b[0m         raise ValueError(\n",
            "\u001b[0;32m/usr/local/lib/python3.10/dist-packages/pandas/io/excel/_base.py\u001b[0m in \u001b[0;36m__init__\u001b[0;34m(self, path_or_buffer, engine, storage_options)\u001b[0m\n\u001b[1;32m   1650\u001b[0m                 \u001b[0mext\u001b[0m \u001b[0;34m=\u001b[0m \u001b[0;34m\"xls\"\u001b[0m\u001b[0;34m\u001b[0m\u001b[0;34m\u001b[0m\u001b[0m\n\u001b[1;32m   1651\u001b[0m             \u001b[0;32melse\u001b[0m\u001b[0;34m:\u001b[0m\u001b[0;34m\u001b[0m\u001b[0;34m\u001b[0m\u001b[0m\n\u001b[0;32m-> 1652\u001b[0;31m                 ext = inspect_excel_format(\n\u001b[0m\u001b[1;32m   1653\u001b[0m                     \u001b[0mcontent_or_path\u001b[0m\u001b[0;34m=\u001b[0m\u001b[0mpath_or_buffer\u001b[0m\u001b[0;34m,\u001b[0m \u001b[0mstorage_options\u001b[0m\u001b[0;34m=\u001b[0m\u001b[0mstorage_options\u001b[0m\u001b[0;34m\u001b[0m\u001b[0;34m\u001b[0m\u001b[0m\n\u001b[1;32m   1654\u001b[0m                 )\n",
            "\u001b[0;32m/usr/local/lib/python3.10/dist-packages/pandas/io/excel/_base.py\u001b[0m in \u001b[0;36minspect_excel_format\u001b[0;34m(content_or_path, storage_options)\u001b[0m\n\u001b[1;32m   1523\u001b[0m         \u001b[0mcontent_or_path\u001b[0m \u001b[0;34m=\u001b[0m \u001b[0mBytesIO\u001b[0m\u001b[0;34m(\u001b[0m\u001b[0mcontent_or_path\u001b[0m\u001b[0;34m)\u001b[0m\u001b[0;34m\u001b[0m\u001b[0;34m\u001b[0m\u001b[0m\n\u001b[1;32m   1524\u001b[0m \u001b[0;34m\u001b[0m\u001b[0m\n\u001b[0;32m-> 1525\u001b[0;31m     with get_handle(\n\u001b[0m\u001b[1;32m   1526\u001b[0m         \u001b[0mcontent_or_path\u001b[0m\u001b[0;34m,\u001b[0m \u001b[0;34m\"rb\"\u001b[0m\u001b[0;34m,\u001b[0m \u001b[0mstorage_options\u001b[0m\u001b[0;34m=\u001b[0m\u001b[0mstorage_options\u001b[0m\u001b[0;34m,\u001b[0m \u001b[0mis_text\u001b[0m\u001b[0;34m=\u001b[0m\u001b[0;32mFalse\u001b[0m\u001b[0;34m\u001b[0m\u001b[0;34m\u001b[0m\u001b[0m\n\u001b[1;32m   1527\u001b[0m     ) as handle:\n",
            "\u001b[0;32m/usr/local/lib/python3.10/dist-packages/pandas/io/common.py\u001b[0m in \u001b[0;36mget_handle\u001b[0;34m(path_or_buf, mode, encoding, compression, memory_map, is_text, errors, storage_options)\u001b[0m\n\u001b[1;32m    711\u001b[0m \u001b[0;34m\u001b[0m\u001b[0m\n\u001b[1;32m    712\u001b[0m     \u001b[0;31m# open URLs\u001b[0m\u001b[0;34m\u001b[0m\u001b[0;34m\u001b[0m\u001b[0m\n\u001b[0;32m--> 713\u001b[0;31m     ioargs = _get_filepath_or_buffer(\n\u001b[0m\u001b[1;32m    714\u001b[0m         \u001b[0mpath_or_buf\u001b[0m\u001b[0;34m,\u001b[0m\u001b[0;34m\u001b[0m\u001b[0;34m\u001b[0m\u001b[0m\n\u001b[1;32m    715\u001b[0m         \u001b[0mencoding\u001b[0m\u001b[0;34m=\u001b[0m\u001b[0mencoding\u001b[0m\u001b[0;34m,\u001b[0m\u001b[0;34m\u001b[0m\u001b[0;34m\u001b[0m\u001b[0m\n",
            "\u001b[0;32m/usr/local/lib/python3.10/dist-packages/pandas/io/common.py\u001b[0m in \u001b[0;36m_get_filepath_or_buffer\u001b[0;34m(filepath_or_buffer, encoding, compression, mode, storage_options)\u001b[0m\n\u001b[1;32m    361\u001b[0m         \u001b[0;31m# assuming storage_options is to be interpreted as headers\u001b[0m\u001b[0;34m\u001b[0m\u001b[0;34m\u001b[0m\u001b[0m\n\u001b[1;32m    362\u001b[0m         \u001b[0mreq_info\u001b[0m \u001b[0;34m=\u001b[0m \u001b[0murllib\u001b[0m\u001b[0;34m.\u001b[0m\u001b[0mrequest\u001b[0m\u001b[0;34m.\u001b[0m\u001b[0mRequest\u001b[0m\u001b[0;34m(\u001b[0m\u001b[0mfilepath_or_buffer\u001b[0m\u001b[0;34m,\u001b[0m \u001b[0mheaders\u001b[0m\u001b[0;34m=\u001b[0m\u001b[0mstorage_options\u001b[0m\u001b[0;34m)\u001b[0m\u001b[0;34m\u001b[0m\u001b[0;34m\u001b[0m\u001b[0m\n\u001b[0;32m--> 363\u001b[0;31m         \u001b[0;32mwith\u001b[0m \u001b[0murlopen\u001b[0m\u001b[0;34m(\u001b[0m\u001b[0mreq_info\u001b[0m\u001b[0;34m)\u001b[0m \u001b[0;32mas\u001b[0m \u001b[0mreq\u001b[0m\u001b[0;34m:\u001b[0m\u001b[0;34m\u001b[0m\u001b[0;34m\u001b[0m\u001b[0m\n\u001b[0m\u001b[1;32m    364\u001b[0m             \u001b[0mcontent_encoding\u001b[0m \u001b[0;34m=\u001b[0m \u001b[0mreq\u001b[0m\u001b[0;34m.\u001b[0m\u001b[0mheaders\u001b[0m\u001b[0;34m.\u001b[0m\u001b[0mget\u001b[0m\u001b[0;34m(\u001b[0m\u001b[0;34m\"Content-Encoding\"\u001b[0m\u001b[0;34m,\u001b[0m \u001b[0;32mNone\u001b[0m\u001b[0;34m)\u001b[0m\u001b[0;34m\u001b[0m\u001b[0;34m\u001b[0m\u001b[0m\n\u001b[1;32m    365\u001b[0m             \u001b[0;32mif\u001b[0m \u001b[0mcontent_encoding\u001b[0m \u001b[0;34m==\u001b[0m \u001b[0;34m\"gzip\"\u001b[0m\u001b[0;34m:\u001b[0m\u001b[0;34m\u001b[0m\u001b[0;34m\u001b[0m\u001b[0m\n",
            "\u001b[0;32m/usr/local/lib/python3.10/dist-packages/pandas/io/common.py\u001b[0m in \u001b[0;36murlopen\u001b[0;34m(*args, **kwargs)\u001b[0m\n\u001b[1;32m    263\u001b[0m     \u001b[0;32mimport\u001b[0m \u001b[0murllib\u001b[0m\u001b[0;34m.\u001b[0m\u001b[0mrequest\u001b[0m\u001b[0;34m\u001b[0m\u001b[0;34m\u001b[0m\u001b[0m\n\u001b[1;32m    264\u001b[0m \u001b[0;34m\u001b[0m\u001b[0m\n\u001b[0;32m--> 265\u001b[0;31m     \u001b[0;32mreturn\u001b[0m \u001b[0murllib\u001b[0m\u001b[0;34m.\u001b[0m\u001b[0mrequest\u001b[0m\u001b[0;34m.\u001b[0m\u001b[0murlopen\u001b[0m\u001b[0;34m(\u001b[0m\u001b[0;34m*\u001b[0m\u001b[0margs\u001b[0m\u001b[0;34m,\u001b[0m \u001b[0;34m**\u001b[0m\u001b[0mkwargs\u001b[0m\u001b[0;34m)\u001b[0m\u001b[0;34m\u001b[0m\u001b[0;34m\u001b[0m\u001b[0m\n\u001b[0m\u001b[1;32m    266\u001b[0m \u001b[0;34m\u001b[0m\u001b[0m\n\u001b[1;32m    267\u001b[0m \u001b[0;34m\u001b[0m\u001b[0m\n",
            "\u001b[0;32m/usr/lib/python3.10/urllib/request.py\u001b[0m in \u001b[0;36murlopen\u001b[0;34m(url, data, timeout, cafile, capath, cadefault, context)\u001b[0m\n\u001b[1;32m    214\u001b[0m     \u001b[0;32melse\u001b[0m\u001b[0;34m:\u001b[0m\u001b[0;34m\u001b[0m\u001b[0;34m\u001b[0m\u001b[0m\n\u001b[1;32m    215\u001b[0m         \u001b[0mopener\u001b[0m \u001b[0;34m=\u001b[0m \u001b[0m_opener\u001b[0m\u001b[0;34m\u001b[0m\u001b[0;34m\u001b[0m\u001b[0m\n\u001b[0;32m--> 216\u001b[0;31m     \u001b[0;32mreturn\u001b[0m \u001b[0mopener\u001b[0m\u001b[0;34m.\u001b[0m\u001b[0mopen\u001b[0m\u001b[0;34m(\u001b[0m\u001b[0murl\u001b[0m\u001b[0;34m,\u001b[0m \u001b[0mdata\u001b[0m\u001b[0;34m,\u001b[0m \u001b[0mtimeout\u001b[0m\u001b[0;34m)\u001b[0m\u001b[0;34m\u001b[0m\u001b[0;34m\u001b[0m\u001b[0m\n\u001b[0m\u001b[1;32m    217\u001b[0m \u001b[0;34m\u001b[0m\u001b[0m\n\u001b[1;32m    218\u001b[0m \u001b[0;32mdef\u001b[0m \u001b[0minstall_opener\u001b[0m\u001b[0;34m(\u001b[0m\u001b[0mopener\u001b[0m\u001b[0;34m)\u001b[0m\u001b[0;34m:\u001b[0m\u001b[0;34m\u001b[0m\u001b[0;34m\u001b[0m\u001b[0m\n",
            "\u001b[0;32m/usr/lib/python3.10/urllib/request.py\u001b[0m in \u001b[0;36mopen\u001b[0;34m(self, fullurl, data, timeout)\u001b[0m\n\u001b[1;32m    523\u001b[0m         \u001b[0;32mfor\u001b[0m \u001b[0mprocessor\u001b[0m \u001b[0;32min\u001b[0m \u001b[0mself\u001b[0m\u001b[0;34m.\u001b[0m\u001b[0mprocess_response\u001b[0m\u001b[0;34m.\u001b[0m\u001b[0mget\u001b[0m\u001b[0;34m(\u001b[0m\u001b[0mprotocol\u001b[0m\u001b[0;34m,\u001b[0m \u001b[0;34m[\u001b[0m\u001b[0;34m]\u001b[0m\u001b[0;34m)\u001b[0m\u001b[0;34m:\u001b[0m\u001b[0;34m\u001b[0m\u001b[0;34m\u001b[0m\u001b[0m\n\u001b[1;32m    524\u001b[0m             \u001b[0mmeth\u001b[0m \u001b[0;34m=\u001b[0m \u001b[0mgetattr\u001b[0m\u001b[0;34m(\u001b[0m\u001b[0mprocessor\u001b[0m\u001b[0;34m,\u001b[0m \u001b[0mmeth_name\u001b[0m\u001b[0;34m)\u001b[0m\u001b[0;34m\u001b[0m\u001b[0;34m\u001b[0m\u001b[0m\n\u001b[0;32m--> 525\u001b[0;31m             \u001b[0mresponse\u001b[0m \u001b[0;34m=\u001b[0m \u001b[0mmeth\u001b[0m\u001b[0;34m(\u001b[0m\u001b[0mreq\u001b[0m\u001b[0;34m,\u001b[0m \u001b[0mresponse\u001b[0m\u001b[0;34m)\u001b[0m\u001b[0;34m\u001b[0m\u001b[0;34m\u001b[0m\u001b[0m\n\u001b[0m\u001b[1;32m    526\u001b[0m \u001b[0;34m\u001b[0m\u001b[0m\n\u001b[1;32m    527\u001b[0m         \u001b[0;32mreturn\u001b[0m \u001b[0mresponse\u001b[0m\u001b[0;34m\u001b[0m\u001b[0;34m\u001b[0m\u001b[0m\n",
            "\u001b[0;32m/usr/lib/python3.10/urllib/request.py\u001b[0m in \u001b[0;36mhttp_response\u001b[0;34m(self, request, response)\u001b[0m\n\u001b[1;32m    632\u001b[0m         \u001b[0;31m# request was successfully received, understood, and accepted.\u001b[0m\u001b[0;34m\u001b[0m\u001b[0;34m\u001b[0m\u001b[0m\n\u001b[1;32m    633\u001b[0m         \u001b[0;32mif\u001b[0m \u001b[0;32mnot\u001b[0m \u001b[0;34m(\u001b[0m\u001b[0;36m200\u001b[0m \u001b[0;34m<=\u001b[0m \u001b[0mcode\u001b[0m \u001b[0;34m<\u001b[0m \u001b[0;36m300\u001b[0m\u001b[0;34m)\u001b[0m\u001b[0;34m:\u001b[0m\u001b[0;34m\u001b[0m\u001b[0;34m\u001b[0m\u001b[0m\n\u001b[0;32m--> 634\u001b[0;31m             response = self.parent.error(\n\u001b[0m\u001b[1;32m    635\u001b[0m                 'http', request, response, code, msg, hdrs)\n\u001b[1;32m    636\u001b[0m \u001b[0;34m\u001b[0m\u001b[0m\n",
            "\u001b[0;32m/usr/lib/python3.10/urllib/request.py\u001b[0m in \u001b[0;36merror\u001b[0;34m(self, proto, *args)\u001b[0m\n\u001b[1;32m    561\u001b[0m         \u001b[0;32mif\u001b[0m \u001b[0mhttp_err\u001b[0m\u001b[0;34m:\u001b[0m\u001b[0;34m\u001b[0m\u001b[0;34m\u001b[0m\u001b[0m\n\u001b[1;32m    562\u001b[0m             \u001b[0margs\u001b[0m \u001b[0;34m=\u001b[0m \u001b[0;34m(\u001b[0m\u001b[0mdict\u001b[0m\u001b[0;34m,\u001b[0m \u001b[0;34m'default'\u001b[0m\u001b[0;34m,\u001b[0m \u001b[0;34m'http_error_default'\u001b[0m\u001b[0;34m)\u001b[0m \u001b[0;34m+\u001b[0m \u001b[0morig_args\u001b[0m\u001b[0;34m\u001b[0m\u001b[0;34m\u001b[0m\u001b[0m\n\u001b[0;32m--> 563\u001b[0;31m             \u001b[0;32mreturn\u001b[0m \u001b[0mself\u001b[0m\u001b[0;34m.\u001b[0m\u001b[0m_call_chain\u001b[0m\u001b[0;34m(\u001b[0m\u001b[0;34m*\u001b[0m\u001b[0margs\u001b[0m\u001b[0;34m)\u001b[0m\u001b[0;34m\u001b[0m\u001b[0;34m\u001b[0m\u001b[0m\n\u001b[0m\u001b[1;32m    564\u001b[0m \u001b[0;34m\u001b[0m\u001b[0m\n\u001b[1;32m    565\u001b[0m \u001b[0;31m# XXX probably also want an abstract factory that knows when it makes\u001b[0m\u001b[0;34m\u001b[0m\u001b[0;34m\u001b[0m\u001b[0m\n",
            "\u001b[0;32m/usr/lib/python3.10/urllib/request.py\u001b[0m in \u001b[0;36m_call_chain\u001b[0;34m(self, chain, kind, meth_name, *args)\u001b[0m\n\u001b[1;32m    494\u001b[0m         \u001b[0;32mfor\u001b[0m \u001b[0mhandler\u001b[0m \u001b[0;32min\u001b[0m \u001b[0mhandlers\u001b[0m\u001b[0;34m:\u001b[0m\u001b[0;34m\u001b[0m\u001b[0;34m\u001b[0m\u001b[0m\n\u001b[1;32m    495\u001b[0m             \u001b[0mfunc\u001b[0m \u001b[0;34m=\u001b[0m \u001b[0mgetattr\u001b[0m\u001b[0;34m(\u001b[0m\u001b[0mhandler\u001b[0m\u001b[0;34m,\u001b[0m \u001b[0mmeth_name\u001b[0m\u001b[0;34m)\u001b[0m\u001b[0;34m\u001b[0m\u001b[0;34m\u001b[0m\u001b[0m\n\u001b[0;32m--> 496\u001b[0;31m             \u001b[0mresult\u001b[0m \u001b[0;34m=\u001b[0m \u001b[0mfunc\u001b[0m\u001b[0;34m(\u001b[0m\u001b[0;34m*\u001b[0m\u001b[0margs\u001b[0m\u001b[0;34m)\u001b[0m\u001b[0;34m\u001b[0m\u001b[0;34m\u001b[0m\u001b[0m\n\u001b[0m\u001b[1;32m    497\u001b[0m             \u001b[0;32mif\u001b[0m \u001b[0mresult\u001b[0m \u001b[0;32mis\u001b[0m \u001b[0;32mnot\u001b[0m \u001b[0;32mNone\u001b[0m\u001b[0;34m:\u001b[0m\u001b[0;34m\u001b[0m\u001b[0;34m\u001b[0m\u001b[0m\n\u001b[1;32m    498\u001b[0m                 \u001b[0;32mreturn\u001b[0m \u001b[0mresult\u001b[0m\u001b[0;34m\u001b[0m\u001b[0;34m\u001b[0m\u001b[0m\n",
            "\u001b[0;32m/usr/lib/python3.10/urllib/request.py\u001b[0m in \u001b[0;36mhttp_error_default\u001b[0;34m(self, req, fp, code, msg, hdrs)\u001b[0m\n\u001b[1;32m    641\u001b[0m \u001b[0;32mclass\u001b[0m \u001b[0mHTTPDefaultErrorHandler\u001b[0m\u001b[0;34m(\u001b[0m\u001b[0mBaseHandler\u001b[0m\u001b[0;34m)\u001b[0m\u001b[0;34m:\u001b[0m\u001b[0;34m\u001b[0m\u001b[0;34m\u001b[0m\u001b[0m\n\u001b[1;32m    642\u001b[0m     \u001b[0;32mdef\u001b[0m \u001b[0mhttp_error_default\u001b[0m\u001b[0;34m(\u001b[0m\u001b[0mself\u001b[0m\u001b[0;34m,\u001b[0m \u001b[0mreq\u001b[0m\u001b[0;34m,\u001b[0m \u001b[0mfp\u001b[0m\u001b[0;34m,\u001b[0m \u001b[0mcode\u001b[0m\u001b[0;34m,\u001b[0m \u001b[0mmsg\u001b[0m\u001b[0;34m,\u001b[0m \u001b[0mhdrs\u001b[0m\u001b[0;34m)\u001b[0m\u001b[0;34m:\u001b[0m\u001b[0;34m\u001b[0m\u001b[0;34m\u001b[0m\u001b[0m\n\u001b[0;32m--> 643\u001b[0;31m         \u001b[0;32mraise\u001b[0m \u001b[0mHTTPError\u001b[0m\u001b[0;34m(\u001b[0m\u001b[0mreq\u001b[0m\u001b[0;34m.\u001b[0m\u001b[0mfull_url\u001b[0m\u001b[0;34m,\u001b[0m \u001b[0mcode\u001b[0m\u001b[0;34m,\u001b[0m \u001b[0mmsg\u001b[0m\u001b[0;34m,\u001b[0m \u001b[0mhdrs\u001b[0m\u001b[0;34m,\u001b[0m \u001b[0mfp\u001b[0m\u001b[0;34m)\u001b[0m\u001b[0;34m\u001b[0m\u001b[0;34m\u001b[0m\u001b[0m\n\u001b[0m\u001b[1;32m    644\u001b[0m \u001b[0;34m\u001b[0m\u001b[0m\n\u001b[1;32m    645\u001b[0m \u001b[0;32mclass\u001b[0m \u001b[0mHTTPRedirectHandler\u001b[0m\u001b[0;34m(\u001b[0m\u001b[0mBaseHandler\u001b[0m\u001b[0;34m)\u001b[0m\u001b[0;34m:\u001b[0m\u001b[0;34m\u001b[0m\u001b[0;34m\u001b[0m\u001b[0m\n",
            "\u001b[0;31mHTTPError\u001b[0m: HTTP Error 404: Not Found"
          ]
        }
      ]
    },
    {
      "cell_type": "markdown",
      "source": [
        "In our ROI for low-mass models, there are (as mentioned above) 16 events in the search data:"
      ],
      "metadata": {
        "id": "gS02W0clNs1j"
      }
    },
    {
      "cell_type": "code",
      "source": [
        "sum((s2_roi[0] <= s2s) & (s2s <= s2_roi[1]))"
      ],
      "metadata": {
        "id": "y6lUdjaSNs1j"
      },
      "execution_count": null,
      "outputs": []
    },
    {
      "cell_type": "markdown",
      "source": [
        "As you can see in red in the figure above, we also provided the training data events. Recall that the total exposure of the training dataset is 3/7th that of the search data (i.e. 0.41862 tonne year)."
      ],
      "metadata": {
        "id": "6VKdMThhNs1j"
      }
    },
    {
      "cell_type": "markdown",
      "source": [
        "#### Background models"
      ],
      "metadata": {
        "id": "d2rWtMxQNs1j"
      }
    },
    {
      "cell_type": "markdown",
      "source": [
        "Only the ER and CEvNS background models can be conveniently distributed, since the cathode background model is estimated by a data-driven method that depends on the ROI and several control samples (see the paper's supplemental material).\n",
        "\n",
        "The provided background models have all detector and analysis effects and efficiencies included. Thus, you do not need to apply any response model to them."
      ],
      "metadata": {
        "id": "Yf9-m6DvNs1j"
      }
    },
    {
      "cell_type": "code",
      "source": [
        "df_bg = pd.read_csv('er_and_cevns_background.csv')\n",
        "plt.plot(s2_bin_centers, df_bg['er_background_events'])\n",
        "plt.plot(s2_bin_centers, df_bg['cevns_background_events'])\n",
        "s2_xaxis()\n",
        "plt.ylabel(\"Events / bin\")\n",
        "plt.ylim(0, None)"
      ],
      "metadata": {
        "id": "3ACprduDNs1j"
      },
      "execution_count": null,
      "outputs": []
    },
    {
      "cell_type": "markdown",
      "source": [
        "The (10-20%) uncertainties on the models are not straightforward to distribute; they are highly correlated across S2 bins due to their origin in e.g. cut acceptance and signal model uncertainties.\n",
        "\n",
        "Please see the note at the end of §3 on why this can NOT be compared to figure 4 in the paper."
      ],
      "metadata": {
        "id": "qb0UfBZcNs1j"
      }
    }
  ]
}